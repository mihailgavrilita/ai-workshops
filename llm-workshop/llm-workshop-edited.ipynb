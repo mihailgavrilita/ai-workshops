{
 "cells": [
  {
   "cell_type": "markdown",
   "id": "ad6da0bd-0283-40a3-b03e-540f8b6e9cc3",
   "metadata": {},
   "source": [
    "### LLM Workshop -- Data Analysis using Large Language Models\n",
    "Welcome to our LLM Workshop!\n",
    "We hope that today you will learn some practical skills in applying Large Language Models in Data Analysis.\n",
    "Enjoy and don't hesitate to ask questions!"
   ]
  },
  {
   "cell_type": "markdown",
   "id": "17b1ba79-a630-4cb0-a6b2-54d527d4ea9f",
   "metadata": {},
   "source": [
    "### Prerequisites\n",
    "Before we start, let's make sure that we have everything installed on our machines:\n",
    "\n",
    "- Git;\n",
    "- Pyenv;\n",
    "- Our libraries (dependancies);\n",
    "- Jupiter Lab;\n",
    "- Ollama."
   ]
  },
  {
   "cell_type": "markdown",
   "id": "f57f9dab-42be-49e8-afa4-9ec187493f9d",
   "metadata": {},
   "source": [
    "### Importing Stuff\n",
    "Now that all is installed, we can start by importing any librabies we will use:"
   ]
  },
  {
   "cell_type": "code",
   "execution_count": null,
   "id": "ec6f5061-4890-4c5f-a4fc-f318586449e6",
   "metadata": {},
   "outputs": [],
   "source": [
    "import re\n",
    "import matplotlib.pyplot as plt\n",
    "import numpy as np\n",
    "import pandas as pd\n",
    "from langchain_ollama import OllamaLLM\n",
    "from pprint import pprint\n",
    "import os\n",
    "from groq import Groq"
   ]
  },
  {
   "cell_type": "markdown",
   "id": "4fa85a35-39ac-4f38-8216-ab6f4ea33e6d",
   "metadata": {},
   "source": [
    "### Connect and Test Model\n",
    "Let's test if we can connect to the model we pulled:"
   ]
  },
  {
   "cell_type": "code",
   "execution_count": null,
   "id": "9ba1eba7-090a-427b-8167-f165772792d9",
   "metadata": {},
   "outputs": [],
   "source": [
    "llm = OllamaLLM(model=\"llama3.2\", temperature=0.05)\n",
    "\n",
    "# answer = llm.invoke(\"An LLM Workshop is ...\")\n",
    "# pprint(answer)"
   ]
  },
  {
   "cell_type": "code",
   "execution_count": null,
   "id": "27e5eb29-db39-483f-95d2-0ea0b35e7ea3",
   "metadata": {},
   "outputs": [],
   "source": [
    "# Exercises:\n",
    "# 1. Download and connect another model (i.e. ollama pull, ollama run)\n",
    "# 2. Use it to compare the results in later exercises"
   ]
  },
  {
   "cell_type": "markdown",
   "id": "b31c648c-6ee1-468a-97eb-ad3aee7a5b99",
   "metadata": {},
   "source": [
    "### Load Data\n",
    "After testing the model, it's time to load the data:"
   ]
  },
  {
   "cell_type": "code",
   "execution_count": null,
   "id": "eb5a7cca-5bc2-4f01-94d7-a8fcb7e03a62",
   "metadata": {},
   "outputs": [],
   "source": [
    "df = pd.read_json(\"db.json\")\n",
    "df.head()"
   ]
  },
  {
   "cell_type": "code",
   "execution_count": null,
   "id": "271687f1-1c8b-4950-81d2-d6482f5e7bb5",
   "metadata": {},
   "outputs": [],
   "source": [
    "# Exercises:\n",
    "# 1. Print the number of job postings in the database\n",
    "# 2. Print any other statistical metrics that would be relevant here"
   ]
  },
  {
   "cell_type": "markdown",
   "id": "6e497e29-bd71-4b0c-a98f-1a5ee2efc6bb",
   "metadata": {},
   "source": [
    "### Categorize Positions\n",
    "With the model working and the data loaded, let's try to categorize some job positions!"
   ]
  },
  {
   "cell_type": "code",
   "execution_count": null,
   "id": "7ae8847e-55fc-4cae-8a85-d35c12325f9b",
   "metadata": {},
   "outputs": [],
   "source": [
    "categories = [\"Full-Stack Developer\", \"Front-End Developer\", \"Back-End Developer\", \"Dev Ops\", \"Data Engineer\", \"Other\"]\n",
    "prompt = \"\"\"\n",
    "    Please add an appropriate category to the following job descriptions.\n",
    "    Respond with only the list of position descriptions and categories, without additional explanations.\n",
    "    For example: Senior DevOps Engineer - Dev Ops, Full stack web разработчик (django rest framework и react js) - Full-Stack Developer, Senior / lead developer linux, python, c++, engleza - Back-End Developer etc. \n",
    "    Choose from the following categories: {}.\n",
    "    Job Descriptions: {}.\n",
    "\"\"\"\n",
    "category_pattern = r\"(.+) - (.+)\"\n",
    "\n",
    "def categorize_positions(llm, position_descriptions):\n",
    "    llm_response = llm.invoke(prompt.format(', '.join(categories), \", \".join(position_descriptions)))\n",
    "    function_response = []\n",
    "    \n",
    "    for line in llm_response.split(\"\\n\"):\n",
    "        match = re.search(category_pattern, line)\n",
    "        if match:\n",
    "            position_description, category = match.groups()\n",
    "            function_response.append((position_description, category))\n",
    "\n",
    "    return function_response\n",
    "\n",
    "# categorize_positions(llm, [\"Lead Python Engineer\", \"Python Developer\", \"Python-разработчик для разработки систем\"])"
   ]
  },
  {
   "cell_type": "markdown",
   "id": "1e4c94be-ace7-4379-ad7f-612ee65d2610",
   "metadata": {},
   "source": [
    "If privacy is not a concern, we can use existing cloud solutions.\n",
    "Just don't forget to register and get your API key:"
   ]
  },
  {
   "cell_type": "code",
   "execution_count": null,
   "id": "d358dc31-1dfa-4ca2-a70d-bec2e5132230",
   "metadata": {},
   "outputs": [],
   "source": [
    "api_key = \"YOUR_API_KEY_HERE\" # YOUR_API_KEY_HERE\n",
    "\n",
    "def categorize_positions_groq(llm, position_descriptions):\n",
    "    client = Groq(api_key=api_key)\n",
    "    completion = client.chat.completions.create(\n",
    "        model=\"llama3-groq-70b-8192-tool-use-preview\",\n",
    "        messages=[\n",
    "            {\n",
    "                \"role\": \"user\",\n",
    "                \"content\": prompt.format(', '.join(categories), \", \".join(position_descriptions))\n",
    "            }\n",
    "        ],\n",
    "        temperature=0.5,\n",
    "        max_tokens=2048,\n",
    "        top_p=0.65,\n",
    "        stream=False,\n",
    "        stop=None,\n",
    "    )\n",
    "    llm_response = completion.choices[0].message.content\n",
    "    function_response = []\n",
    "    \n",
    "    for line in llm_response.split(\"\\n\"):\n",
    "        match = re.search(category_pattern, line)\n",
    "        if match:\n",
    "            position_description, category = match.groups()\n",
    "            function_response.append((position_description, category))\n",
    "\n",
    "    return function_response\n",
    "\n",
    "# categorize_positions_groq(llm, [\"Lead Python Engineer\", \"Python Developer\", \"Python-разработчик для разработки систем\"])"
   ]
  },
  {
   "cell_type": "markdown",
   "id": "42f2b297-f35c-418b-8955-aaaaf630ae6a",
   "metadata": {},
   "source": [
    "To work through our whole database of positions, run:"
   ]
  },
  {
   "cell_type": "code",
   "execution_count": null,
   "id": "e2988df1-550b-4afe-a2c3-2e62b57c04f1",
   "metadata": {},
   "outputs": [],
   "source": [
    "category_df = pd.DataFrame({\"Description\": [], 'Category': []})\n",
    "batch_size = 3\n",
    "\n",
    "num_chunks = len(df) // batch_size + (len(df) % batch_size > 0)\n",
    "batches = np.array_split(df[\"position_title\"], num_chunks)\n",
    "\n",
    "for i, batch in enumerate(batches, 1):\n",
    "    print(f\"Batch {i}..\")\n",
    "    new_categories = categorize_positions_groq(llm, batch.tolist())\n",
    "    new_categories_df = pd.DataFrame(new_categories, columns=[\"Description\", \"Category\"])\n",
    "    category_df = pd.concat([category_df, new_categories_df], ignore_index=True)\n",
    "\n",
    "category_df"
   ]
  },
  {
   "cell_type": "markdown",
   "id": "1c36bc8c-6f68-4b9a-bdd9-18e9ded64133",
   "metadata": {},
   "source": [
    "### Vizualize Results\n",
    "Finally we can visualize our results:"
   ]
  },
  {
   "cell_type": "code",
   "execution_count": null,
   "id": "ddf18982-9bcf-4d9b-b1c6-1a53429b2155",
   "metadata": {},
   "outputs": [],
   "source": [
    "def visualize_results(df, column_name):\n",
    "    counts = df[column_name].value_counts()\n",
    "    counts.plot(kind='bar', color='skyblue', figsize=(10, 6))\n",
    "    plt.xlabel(column_name, fontsize=12)\n",
    "    plt.ylabel(\"Number of Positions\", fontsize=12)\n",
    "    plt.title(f\"Number of Job Positions by {column_name}\", fontsize=14)\n",
    "    plt.xticks(rotation=45, ha='right')\n",
    "    plt.tight_layout()\n",
    "    plt.show()\n",
    "\n",
    "visualize_results(category_df, \"Category\")"
   ]
  },
  {
   "cell_type": "code",
   "execution_count": null,
   "id": "b6e4c08f-4b99-4540-9d4f-f41d2b623a54",
   "metadata": {},
   "outputs": [],
   "source": [
    "# Exercises:\n",
    "# 1. Visualize other data columns available in the database (like position_experience or position_posted)\n",
    "# 2. Visualize any other statistical metrics that can be relevant for this data"
   ]
  },
  {
   "cell_type": "code",
   "execution_count": null,
   "id": "b492a26e-afc6-440b-a4a1-23916dacce3f",
   "metadata": {},
   "outputs": [],
   "source": [
    "# Questions:\n",
    "# 1. How can we handle all extra job categories?\n",
    "# 2. How can we tune the model to be more focused?"
   ]
  },
  {
   "cell_type": "markdown",
   "id": "84a5c595-704c-4382-ab29-c8887ac51964",
   "metadata": {
    "jp-MarkdownHeadingCollapsed": true
   },
   "source": [
    "### References\n",
    "Congratulations for reaching here!\n",
    "For those interested, we've left a couple of references you might find useful in your own projects.\n",
    "Good luck!\n",
    "\n",
    "1. [Pyenv GitHub Repo](https://github.com/pyenv/pyenv);\n",
    "2. [Install Jupyter Lab](https://jupyter.org/install);\n",
    "3. [Download Ollama](https://ollama.com/download);\n",
    "4. [GroqCloud Playground](https://console.groq.com/playground);\n",
    "5. [Docs for the OllamaLLM Class](https://python.langchain.com/api_reference/ollama/llms/langchain_ollama.llms.OllamaLLM.html)."
   ]
  }
 ],
 "metadata": {
  "kernelspec": {
   "display_name": "Python 3 (ipykernel)",
   "language": "python",
   "name": "python3"
  },
  "language_info": {
   "codemirror_mode": {
    "name": "ipython",
    "version": 3
   },
   "file_extension": ".py",
   "mimetype": "text/x-python",
   "name": "python",
   "nbconvert_exporter": "python",
   "pygments_lexer": "ipython3",
   "version": "3.11.9"
  }
 },
 "nbformat": 4,
 "nbformat_minor": 5
}
